{
 "cells": [
  {
   "cell_type": "markdown",
   "id": "6a55c6db",
   "metadata": {},
   "source": [
    "# I. Thu thập dữ liệu"
   ]
  },
  {
   "cell_type": "markdown",
   "id": "d813a076",
   "metadata": {},
   "source": [
    "\n",
    "## 1. Giới thiệu về đề tài\n",
    "\n",
    "Dữ liệu được dùng có tên **Customer Personality Analysis** \n",
    "\n",
    "Link dataset: https://www.kaggle.com/datasets/imakash3011/customer-personality-analysis/data\n",
    "\n",
    "Việc phân tích hành vi, tính cách của khách hàng là một cách then chốt trong việc hiểu được khách hàng, từ đó đưa ra được các hành động hợp lý, nâng cao lợi nhuận.\n",
    "\n",
    "Bên cạnh đó, việc này cũng giúp doanh nghiệp có những điều chỉnh thích hợp trong chiến lược kinh doanh như: nâng cao chất lượng sản phẩm được yêu thích, hạn chế sản xuất các sản phẩm ít được đón nhận...\n",
    "\n",
    "\n",
    "\n",
    "## 2. Lý do lựa chọn\n",
    "\n",
    "Một số lý do mà nhóm lựa chọn đề tài này:\n",
    "\n",
    "- Mang tính ứng dụng cao trong công việc\n",
    "\n",
    "- Sử dụng trực quan hoá để thể hiện dữ liệu, từ đó rút ra được các thông tin hữu ích về hành vi của khách hàng.\n",
    "\n",
    "- Áp dụng một số kĩ thuật đã học để phân tích khách hàng như: trực quan hoá, gom cụm, phân loại...\n",
    "\n",
    "## 3. \n",
    "\n",
    "\n",
    "## 4. Cách dữ liệu được tạo ra\n",
    "\n",
    "iFood là ứng dụng giao đồ ăn hàng đầu tại Brazil, có mặt tại nhiều thành phố\n",
    "\n",
    "Dữ liệu do công ty thực phẩm iFood thu thập nhằm mục đích tối đa hoá lợi nhuận tạo ra từ chiến dịch marketing sắp tới. \n",
    "\n",
    "Một chiến dịch thí điểm với sự tham gia của 2,240 khách hàng được thực hiện. Trong đó những khách hàng sẽ được gán nhãn liệu rằng họ có đồng ý với offer của công ty hay không.\n",
    "\n",
    "\n",
    "## 5. Dữ liệu có được sử dụng cho mục đích giáo dục hay không?\n",
    "\n",
    "Giấy phép của datasets là `CC0: Public Domain`, do đó chúng ta có thể sử dụng datasets này để phục vụ trong bài Lab"
   ]
  },
  {
   "cell_type": "markdown",
   "id": "7705a077",
   "metadata": {},
   "source": [
    "# II.Tiền xử lý dữ liệu"
   ]
  },
  {
   "cell_type": "markdown",
   "id": "4b9e4d0f",
   "metadata": {},
   "source": [
    "## 1. Import các thư viện cần thiết"
   ]
  },
  {
   "cell_type": "code",
   "execution_count": 237,
   "id": "99ed3886",
   "metadata": {},
   "outputs": [],
   "source": [
    "import pandas as pd\n",
    "import numpy as np\n",
    "import matplotlib.pyplot as plt\n",
    "import seaborn as sns\n",
    "from sklearn.preprocessing import StandardScaler"
   ]
  },
  {
   "cell_type": "markdown",
   "id": "ba0b2601",
   "metadata": {},
   "source": [
    "## 2. Đọc dataset từ file csv"
   ]
  },
  {
   "cell_type": "code",
   "execution_count": 238,
   "id": "2779fb41",
   "metadata": {},
   "outputs": [],
   "source": [
    "raw_df = pd.read_csv(\"data/marketing_campaign.csv\", sep='\\t')"
   ]
  },
  {
   "cell_type": "code",
   "execution_count": 239,
   "id": "4170e172",
   "metadata": {},
   "outputs": [
    {
     "data": {
      "text/html": [
       "<div>\n",
       "<style scoped>\n",
       "    .dataframe tbody tr th:only-of-type {\n",
       "        vertical-align: middle;\n",
       "    }\n",
       "\n",
       "    .dataframe tbody tr th {\n",
       "        vertical-align: top;\n",
       "    }\n",
       "\n",
       "    .dataframe thead th {\n",
       "        text-align: right;\n",
       "    }\n",
       "</style>\n",
       "<table border=\"1\" class=\"dataframe\">\n",
       "  <thead>\n",
       "    <tr style=\"text-align: right;\">\n",
       "      <th></th>\n",
       "      <th>ID</th>\n",
       "      <th>Year_Birth</th>\n",
       "      <th>Education</th>\n",
       "      <th>Marital_Status</th>\n",
       "      <th>Income</th>\n",
       "      <th>Kidhome</th>\n",
       "      <th>Teenhome</th>\n",
       "      <th>Dt_Customer</th>\n",
       "      <th>Recency</th>\n",
       "      <th>MntWines</th>\n",
       "      <th>...</th>\n",
       "      <th>NumWebVisitsMonth</th>\n",
       "      <th>AcceptedCmp3</th>\n",
       "      <th>AcceptedCmp4</th>\n",
       "      <th>AcceptedCmp5</th>\n",
       "      <th>AcceptedCmp1</th>\n",
       "      <th>AcceptedCmp2</th>\n",
       "      <th>Complain</th>\n",
       "      <th>Z_CostContact</th>\n",
       "      <th>Z_Revenue</th>\n",
       "      <th>Response</th>\n",
       "    </tr>\n",
       "  </thead>\n",
       "  <tbody>\n",
       "    <tr>\n",
       "      <th>0</th>\n",
       "      <td>5524</td>\n",
       "      <td>1957</td>\n",
       "      <td>Graduation</td>\n",
       "      <td>Single</td>\n",
       "      <td>58138.0</td>\n",
       "      <td>0</td>\n",
       "      <td>0</td>\n",
       "      <td>04-09-2012</td>\n",
       "      <td>58</td>\n",
       "      <td>635</td>\n",
       "      <td>...</td>\n",
       "      <td>7</td>\n",
       "      <td>0</td>\n",
       "      <td>0</td>\n",
       "      <td>0</td>\n",
       "      <td>0</td>\n",
       "      <td>0</td>\n",
       "      <td>0</td>\n",
       "      <td>3</td>\n",
       "      <td>11</td>\n",
       "      <td>1</td>\n",
       "    </tr>\n",
       "    <tr>\n",
       "      <th>1</th>\n",
       "      <td>2174</td>\n",
       "      <td>1954</td>\n",
       "      <td>Graduation</td>\n",
       "      <td>Single</td>\n",
       "      <td>46344.0</td>\n",
       "      <td>1</td>\n",
       "      <td>1</td>\n",
       "      <td>08-03-2014</td>\n",
       "      <td>38</td>\n",
       "      <td>11</td>\n",
       "      <td>...</td>\n",
       "      <td>5</td>\n",
       "      <td>0</td>\n",
       "      <td>0</td>\n",
       "      <td>0</td>\n",
       "      <td>0</td>\n",
       "      <td>0</td>\n",
       "      <td>0</td>\n",
       "      <td>3</td>\n",
       "      <td>11</td>\n",
       "      <td>0</td>\n",
       "    </tr>\n",
       "    <tr>\n",
       "      <th>2</th>\n",
       "      <td>4141</td>\n",
       "      <td>1965</td>\n",
       "      <td>Graduation</td>\n",
       "      <td>Together</td>\n",
       "      <td>71613.0</td>\n",
       "      <td>0</td>\n",
       "      <td>0</td>\n",
       "      <td>21-08-2013</td>\n",
       "      <td>26</td>\n",
       "      <td>426</td>\n",
       "      <td>...</td>\n",
       "      <td>4</td>\n",
       "      <td>0</td>\n",
       "      <td>0</td>\n",
       "      <td>0</td>\n",
       "      <td>0</td>\n",
       "      <td>0</td>\n",
       "      <td>0</td>\n",
       "      <td>3</td>\n",
       "      <td>11</td>\n",
       "      <td>0</td>\n",
       "    </tr>\n",
       "    <tr>\n",
       "      <th>3</th>\n",
       "      <td>6182</td>\n",
       "      <td>1984</td>\n",
       "      <td>Graduation</td>\n",
       "      <td>Together</td>\n",
       "      <td>26646.0</td>\n",
       "      <td>1</td>\n",
       "      <td>0</td>\n",
       "      <td>10-02-2014</td>\n",
       "      <td>26</td>\n",
       "      <td>11</td>\n",
       "      <td>...</td>\n",
       "      <td>6</td>\n",
       "      <td>0</td>\n",
       "      <td>0</td>\n",
       "      <td>0</td>\n",
       "      <td>0</td>\n",
       "      <td>0</td>\n",
       "      <td>0</td>\n",
       "      <td>3</td>\n",
       "      <td>11</td>\n",
       "      <td>0</td>\n",
       "    </tr>\n",
       "    <tr>\n",
       "      <th>4</th>\n",
       "      <td>5324</td>\n",
       "      <td>1981</td>\n",
       "      <td>PhD</td>\n",
       "      <td>Married</td>\n",
       "      <td>58293.0</td>\n",
       "      <td>1</td>\n",
       "      <td>0</td>\n",
       "      <td>19-01-2014</td>\n",
       "      <td>94</td>\n",
       "      <td>173</td>\n",
       "      <td>...</td>\n",
       "      <td>5</td>\n",
       "      <td>0</td>\n",
       "      <td>0</td>\n",
       "      <td>0</td>\n",
       "      <td>0</td>\n",
       "      <td>0</td>\n",
       "      <td>0</td>\n",
       "      <td>3</td>\n",
       "      <td>11</td>\n",
       "      <td>0</td>\n",
       "    </tr>\n",
       "  </tbody>\n",
       "</table>\n",
       "<p>5 rows × 29 columns</p>\n",
       "</div>"
      ],
      "text/plain": [
       "     ID  Year_Birth   Education Marital_Status   Income  Kidhome  Teenhome  \\\n",
       "0  5524        1957  Graduation         Single  58138.0        0         0   \n",
       "1  2174        1954  Graduation         Single  46344.0        1         1   \n",
       "2  4141        1965  Graduation       Together  71613.0        0         0   \n",
       "3  6182        1984  Graduation       Together  26646.0        1         0   \n",
       "4  5324        1981         PhD        Married  58293.0        1         0   \n",
       "\n",
       "  Dt_Customer  Recency  MntWines  ...  NumWebVisitsMonth  AcceptedCmp3  \\\n",
       "0  04-09-2012       58       635  ...                  7             0   \n",
       "1  08-03-2014       38        11  ...                  5             0   \n",
       "2  21-08-2013       26       426  ...                  4             0   \n",
       "3  10-02-2014       26        11  ...                  6             0   \n",
       "4  19-01-2014       94       173  ...                  5             0   \n",
       "\n",
       "   AcceptedCmp4  AcceptedCmp5  AcceptedCmp1  AcceptedCmp2  Complain  \\\n",
       "0             0             0             0             0         0   \n",
       "1             0             0             0             0         0   \n",
       "2             0             0             0             0         0   \n",
       "3             0             0             0             0         0   \n",
       "4             0             0             0             0         0   \n",
       "\n",
       "   Z_CostContact  Z_Revenue  Response  \n",
       "0              3         11         1  \n",
       "1              3         11         0  \n",
       "2              3         11         0  \n",
       "3              3         11         0  \n",
       "4              3         11         0  \n",
       "\n",
       "[5 rows x 29 columns]"
      ]
     },
     "execution_count": 239,
     "metadata": {},
     "output_type": "execute_result"
    }
   ],
   "source": [
    "raw_df.head()"
   ]
  },
  {
   "cell_type": "markdown",
   "id": "83713879",
   "metadata": {},
   "source": [
    "## 3. Số dòng và cột"
   ]
  },
  {
   "cell_type": "code",
   "execution_count": 240,
   "id": "efba038d",
   "metadata": {},
   "outputs": [
    {
     "name": "stdout",
     "output_type": "stream",
     "text": [
      "Dataset có 2240 dòng và 29 cột\n"
     ]
    }
   ],
   "source": [
    "n_rows, n_cols = raw_df.shape\n",
    "print(f\"Dataset có {n_rows} dòng và {n_cols} cột\")"
   ]
  },
  {
   "cell_type": "markdown",
   "id": "44174143",
   "metadata": {},
   "source": [
    "## 4. Ý nghĩa của các dòng"
   ]
  },
  {
   "cell_type": "markdown",
   "id": "6358af23",
   "metadata": {},
   "source": [
    "People\n",
    "- `ID`: Id để định danh khách hàng  \n",
    "- `Year_Birth`: Năm sinh của khách hàng \n",
    "- `Education`: trình độ học vấn  \n",
    "- `Marital_Status`: Tình trạng hôn nhân  \n",
    "- `Income`: Thu nhập hàng năm của khách hàng  \n",
    "- `Kidhome`: Sô trẻ con trong gia đình  \n",
    "- `Teenhome`: Số trẻ vị thành niên trong gia đình\n",
    "- `Dt_Customer`: Ngày khách hàng mua hàng đầu tiên\n",
    "- `Recency`: Số ngày kể từ lần cuối khách hàng mua hàng\n",
    "- `Complain`: 1 nếu khách hàng có complain trong 2 năm gần nhất, 0 cho các trường hợp khác  \n",
    "\n",
    "\n",
    "Products\n",
    "- `MntWines`: Số tiền đã chi tiêu cho rượu trong 2 năm qua\n",
    "- `MntFruits`: Số tiền đã chi tiêu cho hoa quả trong 2 năm qua \n",
    "- `MntMeatProducts`: Số tiền đã chi tiêu cho thịt trong 2 năm qua \n",
    "- `MntFishProducts`: Số tiền đã chi tiêu cho cá trong 2 năm qua\n",
    "- `MntSweetProducts`: Số tiền đã chi tiêu cho đồ ngọt trong 2 năm qua\n",
    "- `MntGoldProds`: Số tiền đã chi tiêu cho sản phẩm loại vàng trong 2 năm qua   \n",
    "\n",
    "Promotion  \n",
    "- `NumDealsPurchases`: Số lượng mua hàng được giảm giá\n",
    "- `AcceptedCmp1`: 1 nếu khách hàng chấp nhận ưu đãi trong chiến dịch 1, 0 nếu ngược lại\n",
    "- `AcceptedCmp2`: 1 nếu khách hàng chấp nhận ưu đãi trong chiến dịch 2, 0 nếu ngược lại\n",
    "- `AcceptedCmp3`: 1 nếu khách hàng chấp nhận ưu đãi trong chiến dịch 3, 0 nếu ngược lại\n",
    "- `AcceptedCmp4`: 1 nếu khách hàng chấp nhận ưu đãi trong chiến dịch 4, 0 nếu ngược lại\n",
    "- `AcceptedCmp5`: 1 nếu khách hàng chấp nhận ưu đãi trong chiến dịch 5, 0 nếu ngược lại\n",
    "- `Response`: 1 nếu khách hàng chấp nhận ưu đãi trong chiến dịch cuối cùng, 0 nếu ngược lại\n",
    "\n",
    "Place  \n",
    "- `NumWebPurchases`: Số lượng mua hàng thông qua trang web của công ty\n",
    "- `NumCatalogPurchases`: Số lượng mua hàng sử dụng catalogue\n",
    "- `NumStorePurchases`: Số lượng mua hàng trực tiếp tại cửa hàng\n",
    "- `NumWebVisitsMonth`: Số lượng lượt truy cập vào trang web của công ty trong tháng vừa qua\n"
   ]
  },
  {
   "cell_type": "markdown",
   "id": "253a9900",
   "metadata": {},
   "source": [
    "## 5. Kiểm tra sự trùng lắp của các dòng"
   ]
  },
  {
   "cell_type": "code",
   "execution_count": 241,
   "id": "9aa9961c",
   "metadata": {},
   "outputs": [
    {
     "name": "stdout",
     "output_type": "stream",
     "text": [
      "Dataset không bị trùng lắp\n"
     ]
    }
   ],
   "source": [
    "n_dups = raw_df.duplicated().sum()\n",
    "\n",
    "if n_dups:\n",
    "    print(f\"Dataset có {n_dups} dòng trùng lắp\")\n",
    "else:\n",
    "    print(\"Dataset không bị trùng lắp\")"
   ]
  },
  {
   "cell_type": "markdown",
   "id": "600b6688",
   "metadata": {},
   "source": [
    "## 6. Liệu kiểu dữ liệu của các cột đã hợp lý hay chưa?"
   ]
  },
  {
   "cell_type": "code",
   "execution_count": 242,
   "id": "4d2b26de",
   "metadata": {},
   "outputs": [
    {
     "name": "stdout",
     "output_type": "stream",
     "text": [
      "<class 'pandas.core.frame.DataFrame'>\n",
      "RangeIndex: 2240 entries, 0 to 2239\n",
      "Data columns (total 29 columns):\n",
      " #   Column               Non-Null Count  Dtype  \n",
      "---  ------               --------------  -----  \n",
      " 0   ID                   2240 non-null   int64  \n",
      " 1   Year_Birth           2240 non-null   int64  \n",
      " 2   Education            2240 non-null   object \n",
      " 3   Marital_Status       2240 non-null   object \n",
      " 4   Income               2216 non-null   float64\n",
      " 5   Kidhome              2240 non-null   int64  \n",
      " 6   Teenhome             2240 non-null   int64  \n",
      " 7   Dt_Customer          2240 non-null   object \n",
      " 8   Recency              2240 non-null   int64  \n",
      " 9   MntWines             2240 non-null   int64  \n",
      " 10  MntFruits            2240 non-null   int64  \n",
      " 11  MntMeatProducts      2240 non-null   int64  \n",
      " 12  MntFishProducts      2240 non-null   int64  \n",
      " 13  MntSweetProducts     2240 non-null   int64  \n",
      " 14  MntGoldProds         2240 non-null   int64  \n",
      " 15  NumDealsPurchases    2240 non-null   int64  \n",
      " 16  NumWebPurchases      2240 non-null   int64  \n",
      " 17  NumCatalogPurchases  2240 non-null   int64  \n",
      " 18  NumStorePurchases    2240 non-null   int64  \n",
      " 19  NumWebVisitsMonth    2240 non-null   int64  \n",
      " 20  AcceptedCmp3         2240 non-null   int64  \n",
      " 21  AcceptedCmp4         2240 non-null   int64  \n",
      " 22  AcceptedCmp5         2240 non-null   int64  \n",
      " 23  AcceptedCmp1         2240 non-null   int64  \n",
      " 24  AcceptedCmp2         2240 non-null   int64  \n",
      " 25  Complain             2240 non-null   int64  \n",
      " 26  Z_CostContact        2240 non-null   int64  \n",
      " 27  Z_Revenue            2240 non-null   int64  \n",
      " 28  Response             2240 non-null   int64  \n",
      "dtypes: float64(1), int64(25), object(3)\n",
      "memory usage: 507.6+ KB\n"
     ]
    }
   ],
   "source": [
    "raw_df.info()"
   ]
  },
  {
   "cell_type": "markdown",
   "id": "32557b57",
   "metadata": {},
   "source": [
    "- Trong ` Income ` có các giá trị bị thiếu  \n",
    "- Cột `Dt_Customer` nên là kiểu dữ liệu datetime  \n",
    "- Các cột `Complain` và `Accepted` nên là kiểu boolean"
   ]
  },
  {
   "cell_type": "markdown",
   "id": "aa21bb03",
   "metadata": {},
   "source": [
    "### Chuyển cột `Year_Birth` sang cột tuổi"
   ]
  },
  {
   "cell_type": "markdown",
   "id": "d9a7a407",
   "metadata": {},
   "source": [
    "Mục đích chuyển sang cột tuổi là giúp ta dễ quan sát và so sánh hơn, ngoài ra việc trực quan cũng dễ hiểu hơn\n",
    "\n",
    "Ta sẽ lấy mốc thời gian chính là thời gian thu thập dữ liệu (2021)"
   ]
  },
  {
   "cell_type": "code",
   "execution_count": 243,
   "id": "e4c9a94a",
   "metadata": {},
   "outputs": [
    {
     "data": {
      "text/plain": [
       "25"
      ]
     },
     "execution_count": 243,
     "metadata": {},
     "output_type": "execute_result"
    }
   ],
   "source": [
    "current_year = 2021\n",
    "raw_df['Age'] = current_year - raw_df['Year_Birth']\n",
    "raw_df.drop('Year_Birth', axis=1, inplace=True)\n",
    "raw_df['Age']\n",
    "raw_df['Age'].min()"
   ]
  },
  {
   "cell_type": "markdown",
   "id": "ba69b722",
   "metadata": {},
   "source": [
    "Bên cạnh đó, để có thêm thông tin tổng quát, ta sẽ thêm một cột là nhóm tuổi `Age Group`\n",
    "\n",
    "Quy tắc như sau:\n",
    "\n",
    "- 24 - 35 tuổi\n",
    "\n",
    "- 36 - 50 tuổi\n",
    "\n",
    "- 51 - 65 tuổi\n",
    "\n",
    "- Trên 66 tuổi"
   ]
  },
  {
   "cell_type": "code",
   "execution_count": 244,
   "id": "c9a8de0d",
   "metadata": {},
   "outputs": [],
   "source": [
    "raw_df['Age Group'] = pd.cut(raw_df['Age'], bins=[0, 35, 50, 65, 100], labels=['24-35', '36-50', '51-65', '66+'])"
   ]
  },
  {
   "cell_type": "code",
   "execution_count": 245,
   "id": "3dfae874",
   "metadata": {},
   "outputs": [
    {
     "data": {
      "text/plain": [
       "0    51-65\n",
       "1      66+\n",
       "2    51-65\n",
       "3    36-50\n",
       "4    36-50\n",
       "Name: Age Group, dtype: category\n",
       "Categories (4, object): ['24-35' < '36-50' < '51-65' < '66+']"
      ]
     },
     "execution_count": 245,
     "metadata": {},
     "output_type": "execute_result"
    }
   ],
   "source": [
    "raw_df['Age Group'].head()"
   ]
  },
  {
   "cell_type": "code",
   "execution_count": 246,
   "id": "d8db5389",
   "metadata": {},
   "outputs": [
    {
     "data": {
      "text/plain": [
       "36-50    898\n",
       "51-65    785\n",
       "66+      365\n",
       "24-35    189\n",
       "Name: Age Group, dtype: int64"
      ]
     },
     "execution_count": 246,
     "metadata": {},
     "output_type": "execute_result"
    }
   ],
   "source": [
    "raw_df['Age Group'].value_counts()"
   ]
  },
  {
   "cell_type": "markdown",
   "id": "69bc990f",
   "metadata": {},
   "source": [
    "### Chuyển cột `Dt_Customer` sang kiểu datetime"
   ]
  },
  {
   "cell_type": "code",
   "execution_count": 247,
   "id": "3a18d379",
   "metadata": {
    "scrolled": false
   },
   "outputs": [
    {
     "data": {
      "text/plain": [
       "0      2012-09-04\n",
       "1      2014-03-08\n",
       "2      2013-08-21\n",
       "3      2014-02-10\n",
       "4      2014-01-19\n",
       "          ...    \n",
       "2235   2013-06-13\n",
       "2236   2014-06-10\n",
       "2237   2014-01-25\n",
       "2238   2014-01-24\n",
       "2239   2012-10-15\n",
       "Name: Dt_Customer, Length: 2240, dtype: datetime64[ns]"
      ]
     },
     "execution_count": 247,
     "metadata": {},
     "output_type": "execute_result"
    }
   ],
   "source": [
    "raw_df[\"Dt_Customer\"] = pd.to_datetime(raw_df[\"Dt_Customer\"], format='%d-%m-%Y')\n",
    "raw_df[\"Dt_Customer\"] "
   ]
  },
  {
   "cell_type": "markdown",
   "id": "61728029",
   "metadata": {},
   "source": [
    "### Chuyển các cột `Complain` và `Accepted` sang kiểu boolean"
   ]
  },
  {
   "cell_type": "code",
   "execution_count": 248,
   "id": "bdd99bd4",
   "metadata": {},
   "outputs": [
    {
     "data": {
      "text/plain": [
       "ID                              int64\n",
       "Education                      object\n",
       "Marital_Status                 object\n",
       "Income                        float64\n",
       "Kidhome                         int64\n",
       "Teenhome                        int64\n",
       "Dt_Customer            datetime64[ns]\n",
       "Recency                         int64\n",
       "MntWines                        int64\n",
       "MntFruits                       int64\n",
       "MntMeatProducts                 int64\n",
       "MntFishProducts                 int64\n",
       "MntSweetProducts                int64\n",
       "MntGoldProds                    int64\n",
       "NumDealsPurchases               int64\n",
       "NumWebPurchases                 int64\n",
       "NumCatalogPurchases             int64\n",
       "NumStorePurchases               int64\n",
       "NumWebVisitsMonth               int64\n",
       "AcceptedCmp3                     bool\n",
       "AcceptedCmp4                     bool\n",
       "AcceptedCmp5                     bool\n",
       "AcceptedCmp1                     bool\n",
       "AcceptedCmp2                     bool\n",
       "Complain                         bool\n",
       "Z_CostContact                   int64\n",
       "Z_Revenue                       int64\n",
       "Response                         bool\n",
       "Age                             int64\n",
       "Age Group                    category\n",
       "dtype: object"
      ]
     },
     "execution_count": 248,
     "metadata": {},
     "output_type": "execute_result"
    }
   ],
   "source": [
    "columns = [\"Complain\", \"AcceptedCmp1\", \"AcceptedCmp2\", \"AcceptedCmp3\", \"AcceptedCmp4\", \"AcceptedCmp5\", \"Response\"]\n",
    "raw_df[columns] = raw_df[columns].apply(lambda x: x.astype(bool))\n",
    "raw_df.dtypes"
   ]
  },
  {
   "cell_type": "markdown",
   "id": "c9f1e576",
   "metadata": {},
   "source": [
    "### Xử lí các giá trị bị thiếu trong cột `Income` bằng cách điền các giá trị trung bình"
   ]
  },
  {
   "cell_type": "code",
   "execution_count": 249,
   "id": "2ca476f6",
   "metadata": {},
   "outputs": [
    {
     "name": "stdout",
     "output_type": "stream",
     "text": [
      "Số lượng giá trị nan: 0\n"
     ]
    }
   ],
   "source": [
    "median_income = raw_df[\"Income\"].median()\n",
    "raw_df[\"Income\"].fillna(median_income, inplace=True)\n",
    "\n",
    "print(f'Số lượng giá trị nan: {raw_df[\"Income\"].isna().sum()}')"
   ]
  },
  {
   "cell_type": "markdown",
   "id": "e0eb4a6c",
   "metadata": {},
   "source": [
    "## 7. Kiểm tra lại missing values"
   ]
  },
  {
   "cell_type": "code",
   "execution_count": 250,
   "id": "62f53ea0",
   "metadata": {},
   "outputs": [
    {
     "name": "stdout",
     "output_type": "stream",
     "text": [
      "<class 'pandas.core.frame.DataFrame'>\n",
      "RangeIndex: 2240 entries, 0 to 2239\n",
      "Data columns (total 30 columns):\n",
      " #   Column               Non-Null Count  Dtype         \n",
      "---  ------               --------------  -----         \n",
      " 0   ID                   2240 non-null   int64         \n",
      " 1   Education            2240 non-null   object        \n",
      " 2   Marital_Status       2240 non-null   object        \n",
      " 3   Income               2240 non-null   float64       \n",
      " 4   Kidhome              2240 non-null   int64         \n",
      " 5   Teenhome             2240 non-null   int64         \n",
      " 6   Dt_Customer          2240 non-null   datetime64[ns]\n",
      " 7   Recency              2240 non-null   int64         \n",
      " 8   MntWines             2240 non-null   int64         \n",
      " 9   MntFruits            2240 non-null   int64         \n",
      " 10  MntMeatProducts      2240 non-null   int64         \n",
      " 11  MntFishProducts      2240 non-null   int64         \n",
      " 12  MntSweetProducts     2240 non-null   int64         \n",
      " 13  MntGoldProds         2240 non-null   int64         \n",
      " 14  NumDealsPurchases    2240 non-null   int64         \n",
      " 15  NumWebPurchases      2240 non-null   int64         \n",
      " 16  NumCatalogPurchases  2240 non-null   int64         \n",
      " 17  NumStorePurchases    2240 non-null   int64         \n",
      " 18  NumWebVisitsMonth    2240 non-null   int64         \n",
      " 19  AcceptedCmp3         2240 non-null   bool          \n",
      " 20  AcceptedCmp4         2240 non-null   bool          \n",
      " 21  AcceptedCmp5         2240 non-null   bool          \n",
      " 22  AcceptedCmp1         2240 non-null   bool          \n",
      " 23  AcceptedCmp2         2240 non-null   bool          \n",
      " 24  Complain             2240 non-null   bool          \n",
      " 25  Z_CostContact        2240 non-null   int64         \n",
      " 26  Z_Revenue            2240 non-null   int64         \n",
      " 27  Response             2240 non-null   bool          \n",
      " 28  Age                  2240 non-null   int64         \n",
      " 29  Age Group            2237 non-null   category      \n",
      "dtypes: bool(7), category(1), datetime64[ns](1), float64(1), int64(18), object(2)\n",
      "memory usage: 402.8+ KB\n"
     ]
    }
   ],
   "source": [
    "raw_df.info()"
   ]
  },
  {
   "cell_type": "markdown",
   "id": "08e4e7bc",
   "metadata": {},
   "source": [
    "## 8. Xem xét  `summary statistics` của các cột Numerical"
   ]
  },
  {
   "cell_type": "code",
   "execution_count": 251,
   "id": "99753614",
   "metadata": {},
   "outputs": [
    {
     "data": {
      "text/html": [
       "<div>\n",
       "<style scoped>\n",
       "    .dataframe tbody tr th:only-of-type {\n",
       "        vertical-align: middle;\n",
       "    }\n",
       "\n",
       "    .dataframe tbody tr th {\n",
       "        vertical-align: top;\n",
       "    }\n",
       "\n",
       "    .dataframe thead th {\n",
       "        text-align: right;\n",
       "    }\n",
       "</style>\n",
       "<table border=\"1\" class=\"dataframe\">\n",
       "  <thead>\n",
       "    <tr style=\"text-align: right;\">\n",
       "      <th></th>\n",
       "      <th>ID</th>\n",
       "      <th>Income</th>\n",
       "      <th>Kidhome</th>\n",
       "      <th>Teenhome</th>\n",
       "      <th>Recency</th>\n",
       "      <th>MntWines</th>\n",
       "      <th>MntFruits</th>\n",
       "      <th>MntMeatProducts</th>\n",
       "      <th>MntFishProducts</th>\n",
       "      <th>MntSweetProducts</th>\n",
       "      <th>MntGoldProds</th>\n",
       "      <th>NumDealsPurchases</th>\n",
       "      <th>NumWebPurchases</th>\n",
       "      <th>NumCatalogPurchases</th>\n",
       "      <th>NumStorePurchases</th>\n",
       "      <th>NumWebVisitsMonth</th>\n",
       "      <th>Z_CostContact</th>\n",
       "      <th>Z_Revenue</th>\n",
       "      <th>Age</th>\n",
       "    </tr>\n",
       "  </thead>\n",
       "  <tbody>\n",
       "    <tr>\n",
       "      <th>count</th>\n",
       "      <td>2240.000000</td>\n",
       "      <td>2240.000000</td>\n",
       "      <td>2240.000000</td>\n",
       "      <td>2240.000000</td>\n",
       "      <td>2240.000000</td>\n",
       "      <td>2240.000000</td>\n",
       "      <td>2240.000000</td>\n",
       "      <td>2240.000000</td>\n",
       "      <td>2240.000000</td>\n",
       "      <td>2240.000000</td>\n",
       "      <td>2240.000000</td>\n",
       "      <td>2240.000000</td>\n",
       "      <td>2240.000000</td>\n",
       "      <td>2240.000000</td>\n",
       "      <td>2240.000000</td>\n",
       "      <td>2240.000000</td>\n",
       "      <td>2240.0</td>\n",
       "      <td>2240.0</td>\n",
       "      <td>2240.000000</td>\n",
       "    </tr>\n",
       "    <tr>\n",
       "      <th>mean</th>\n",
       "      <td>5592.159821</td>\n",
       "      <td>52237.975446</td>\n",
       "      <td>0.444196</td>\n",
       "      <td>0.506250</td>\n",
       "      <td>49.109375</td>\n",
       "      <td>303.935714</td>\n",
       "      <td>26.302232</td>\n",
       "      <td>166.950000</td>\n",
       "      <td>37.525446</td>\n",
       "      <td>27.062946</td>\n",
       "      <td>44.021875</td>\n",
       "      <td>2.325000</td>\n",
       "      <td>4.084821</td>\n",
       "      <td>2.662054</td>\n",
       "      <td>5.790179</td>\n",
       "      <td>5.316518</td>\n",
       "      <td>3.0</td>\n",
       "      <td>11.0</td>\n",
       "      <td>52.194196</td>\n",
       "    </tr>\n",
       "    <tr>\n",
       "      <th>std</th>\n",
       "      <td>3246.662198</td>\n",
       "      <td>25037.955891</td>\n",
       "      <td>0.538398</td>\n",
       "      <td>0.544538</td>\n",
       "      <td>28.962453</td>\n",
       "      <td>336.597393</td>\n",
       "      <td>39.773434</td>\n",
       "      <td>225.715373</td>\n",
       "      <td>54.628979</td>\n",
       "      <td>41.280498</td>\n",
       "      <td>52.167439</td>\n",
       "      <td>1.932238</td>\n",
       "      <td>2.778714</td>\n",
       "      <td>2.923101</td>\n",
       "      <td>3.250958</td>\n",
       "      <td>2.426645</td>\n",
       "      <td>0.0</td>\n",
       "      <td>0.0</td>\n",
       "      <td>11.984069</td>\n",
       "    </tr>\n",
       "    <tr>\n",
       "      <th>min</th>\n",
       "      <td>0.000000</td>\n",
       "      <td>1730.000000</td>\n",
       "      <td>0.000000</td>\n",
       "      <td>0.000000</td>\n",
       "      <td>0.000000</td>\n",
       "      <td>0.000000</td>\n",
       "      <td>0.000000</td>\n",
       "      <td>0.000000</td>\n",
       "      <td>0.000000</td>\n",
       "      <td>0.000000</td>\n",
       "      <td>0.000000</td>\n",
       "      <td>0.000000</td>\n",
       "      <td>0.000000</td>\n",
       "      <td>0.000000</td>\n",
       "      <td>0.000000</td>\n",
       "      <td>0.000000</td>\n",
       "      <td>3.0</td>\n",
       "      <td>11.0</td>\n",
       "      <td>25.000000</td>\n",
       "    </tr>\n",
       "    <tr>\n",
       "      <th>25%</th>\n",
       "      <td>2828.250000</td>\n",
       "      <td>35538.750000</td>\n",
       "      <td>0.000000</td>\n",
       "      <td>0.000000</td>\n",
       "      <td>24.000000</td>\n",
       "      <td>23.750000</td>\n",
       "      <td>1.000000</td>\n",
       "      <td>16.000000</td>\n",
       "      <td>3.000000</td>\n",
       "      <td>1.000000</td>\n",
       "      <td>9.000000</td>\n",
       "      <td>1.000000</td>\n",
       "      <td>2.000000</td>\n",
       "      <td>0.000000</td>\n",
       "      <td>3.000000</td>\n",
       "      <td>3.000000</td>\n",
       "      <td>3.0</td>\n",
       "      <td>11.0</td>\n",
       "      <td>44.000000</td>\n",
       "    </tr>\n",
       "    <tr>\n",
       "      <th>50%</th>\n",
       "      <td>5458.500000</td>\n",
       "      <td>51381.500000</td>\n",
       "      <td>0.000000</td>\n",
       "      <td>0.000000</td>\n",
       "      <td>49.000000</td>\n",
       "      <td>173.500000</td>\n",
       "      <td>8.000000</td>\n",
       "      <td>67.000000</td>\n",
       "      <td>12.000000</td>\n",
       "      <td>8.000000</td>\n",
       "      <td>24.000000</td>\n",
       "      <td>2.000000</td>\n",
       "      <td>4.000000</td>\n",
       "      <td>2.000000</td>\n",
       "      <td>5.000000</td>\n",
       "      <td>6.000000</td>\n",
       "      <td>3.0</td>\n",
       "      <td>11.0</td>\n",
       "      <td>51.000000</td>\n",
       "    </tr>\n",
       "    <tr>\n",
       "      <th>75%</th>\n",
       "      <td>8427.750000</td>\n",
       "      <td>68289.750000</td>\n",
       "      <td>1.000000</td>\n",
       "      <td>1.000000</td>\n",
       "      <td>74.000000</td>\n",
       "      <td>504.250000</td>\n",
       "      <td>33.000000</td>\n",
       "      <td>232.000000</td>\n",
       "      <td>50.000000</td>\n",
       "      <td>33.000000</td>\n",
       "      <td>56.000000</td>\n",
       "      <td>3.000000</td>\n",
       "      <td>6.000000</td>\n",
       "      <td>4.000000</td>\n",
       "      <td>8.000000</td>\n",
       "      <td>7.000000</td>\n",
       "      <td>3.0</td>\n",
       "      <td>11.0</td>\n",
       "      <td>62.000000</td>\n",
       "    </tr>\n",
       "    <tr>\n",
       "      <th>max</th>\n",
       "      <td>11191.000000</td>\n",
       "      <td>666666.000000</td>\n",
       "      <td>2.000000</td>\n",
       "      <td>2.000000</td>\n",
       "      <td>99.000000</td>\n",
       "      <td>1493.000000</td>\n",
       "      <td>199.000000</td>\n",
       "      <td>1725.000000</td>\n",
       "      <td>259.000000</td>\n",
       "      <td>263.000000</td>\n",
       "      <td>362.000000</td>\n",
       "      <td>15.000000</td>\n",
       "      <td>27.000000</td>\n",
       "      <td>28.000000</td>\n",
       "      <td>13.000000</td>\n",
       "      <td>20.000000</td>\n",
       "      <td>3.0</td>\n",
       "      <td>11.0</td>\n",
       "      <td>128.000000</td>\n",
       "    </tr>\n",
       "  </tbody>\n",
       "</table>\n",
       "</div>"
      ],
      "text/plain": [
       "                 ID         Income      Kidhome     Teenhome      Recency  \\\n",
       "count   2240.000000    2240.000000  2240.000000  2240.000000  2240.000000   \n",
       "mean    5592.159821   52237.975446     0.444196     0.506250    49.109375   \n",
       "std     3246.662198   25037.955891     0.538398     0.544538    28.962453   \n",
       "min        0.000000    1730.000000     0.000000     0.000000     0.000000   \n",
       "25%     2828.250000   35538.750000     0.000000     0.000000    24.000000   \n",
       "50%     5458.500000   51381.500000     0.000000     0.000000    49.000000   \n",
       "75%     8427.750000   68289.750000     1.000000     1.000000    74.000000   \n",
       "max    11191.000000  666666.000000     2.000000     2.000000    99.000000   \n",
       "\n",
       "          MntWines    MntFruits  MntMeatProducts  MntFishProducts  \\\n",
       "count  2240.000000  2240.000000      2240.000000      2240.000000   \n",
       "mean    303.935714    26.302232       166.950000        37.525446   \n",
       "std     336.597393    39.773434       225.715373        54.628979   \n",
       "min       0.000000     0.000000         0.000000         0.000000   \n",
       "25%      23.750000     1.000000        16.000000         3.000000   \n",
       "50%     173.500000     8.000000        67.000000        12.000000   \n",
       "75%     504.250000    33.000000       232.000000        50.000000   \n",
       "max    1493.000000   199.000000      1725.000000       259.000000   \n",
       "\n",
       "       MntSweetProducts  MntGoldProds  NumDealsPurchases  NumWebPurchases  \\\n",
       "count       2240.000000   2240.000000        2240.000000      2240.000000   \n",
       "mean          27.062946     44.021875           2.325000         4.084821   \n",
       "std           41.280498     52.167439           1.932238         2.778714   \n",
       "min            0.000000      0.000000           0.000000         0.000000   \n",
       "25%            1.000000      9.000000           1.000000         2.000000   \n",
       "50%            8.000000     24.000000           2.000000         4.000000   \n",
       "75%           33.000000     56.000000           3.000000         6.000000   \n",
       "max          263.000000    362.000000          15.000000        27.000000   \n",
       "\n",
       "       NumCatalogPurchases  NumStorePurchases  NumWebVisitsMonth  \\\n",
       "count          2240.000000        2240.000000        2240.000000   \n",
       "mean              2.662054           5.790179           5.316518   \n",
       "std               2.923101           3.250958           2.426645   \n",
       "min               0.000000           0.000000           0.000000   \n",
       "25%               0.000000           3.000000           3.000000   \n",
       "50%               2.000000           5.000000           6.000000   \n",
       "75%               4.000000           8.000000           7.000000   \n",
       "max              28.000000          13.000000          20.000000   \n",
       "\n",
       "       Z_CostContact  Z_Revenue          Age  \n",
       "count         2240.0     2240.0  2240.000000  \n",
       "mean             3.0       11.0    52.194196  \n",
       "std              0.0        0.0    11.984069  \n",
       "min              3.0       11.0    25.000000  \n",
       "25%              3.0       11.0    44.000000  \n",
       "50%              3.0       11.0    51.000000  \n",
       "75%              3.0       11.0    62.000000  \n",
       "max              3.0       11.0   128.000000  "
      ]
     },
     "execution_count": 251,
     "metadata": {},
     "output_type": "execute_result"
    }
   ],
   "source": [
    "raw_df.describe(include='number')\n"
   ]
  },
  {
   "cell_type": "markdown",
   "id": "1f20d5b7",
   "metadata": {},
   "source": [
    "**Nhận xét**\n",
    "\n",
    "- Nhìn chung, giá trị các cột không có gì bất thường\n",
    "\n",
    "- Giá trị max của cột `Income` khá lớn"
   ]
  },
  {
   "cell_type": "markdown",
   "id": "779a5678",
   "metadata": {},
   "source": [
    "Để đơn giản cho việc phân tích, ta sẽ gộp 2 cột `Kidhome` và `Teenhome` thành `Kids` bằng cách cộng 2 cột này lại"
   ]
  },
  {
   "cell_type": "code",
   "execution_count": 252,
   "id": "cb8a8762",
   "metadata": {},
   "outputs": [],
   "source": [
    "raw_df['Kids'] = raw_df['Kidhome'] + raw_df['Teenhome']\n",
    "raw_df.drop(['Kidhome', 'Teenhome'], axis=1, inplace=True)\n"
   ]
  },
  {
   "cell_type": "markdown",
   "id": "19571967",
   "metadata": {},
   "source": [
    "Thêm cột đếm tổng số giao dịch của khách hàng"
   ]
  },
  {
   "cell_type": "code",
   "execution_count": 253,
   "id": "114a482e",
   "metadata": {},
   "outputs": [],
   "source": [
    "raw_df['Total Purchases'] = raw_df['NumDealsPurchases'] + raw_df['NumWebPurchases'] + raw_df['NumCatalogPurchases'] + raw_df['NumStorePurchases']"
   ]
  },
  {
   "cell_type": "markdown",
   "id": "a23aec6a",
   "metadata": {},
   "source": [
    "### Visualize histogram của các cột Numerical"
   ]
  },
  {
   "cell_type": "code",
   "execution_count": 254,
   "id": "13ef3568",
   "metadata": {},
   "outputs": [
    {
     "data": {
      "image/png": "[encoded data removed]",
      "text/plain": [
       "<Figure size 1500x1500 with 20 Axes>"
      ]
     },
     "metadata": {},
     "output_type": "display_data"
    }
   ],
   "source": [
    "numeric_cols = raw_df.select_dtypes(include='number').columns\n",
    "\n",
    "num_rows = 5\n",
    "num_cols = 4\n",
    "\n",
    "fig, ax = plt.subplots(num_rows, num_cols, figsize=(15, 15))\n",
    "\n",
    "for i, col in enumerate(numeric_cols):\n",
    "    row_index = i // num_cols\n",
    "    col_index = i % num_cols\n",
    "    ax[row_index, col_index].hist(raw_df[col], edgecolor=\"black\", bins=10)\n",
    "    ax[row_index, col_index].set_xlabel(col)\n",
    "\n",
    "fig.suptitle(\"Distribution of numeric columns\", size=18)\n",
    "\n",
    "plt.tight_layout()\n",
    "plt.show()"
   ]
  },
  {
   "cell_type": "markdown",
   "id": "0e456e05",
   "metadata": {},
   "source": [
    "### Visualize boxplot cho các cột Numerical"
   ]
  },
  {
   "cell_type": "markdown",
   "id": "7647b154",
   "metadata": {},
   "source": [
    "Vì `ID` chủ yếu mang tính phân biệt các giá trị quan trắc với nhau cho nên ta sẽ bỏ qua nó trong việc trực quan bằng boxplot"
   ]
  },
  {
   "cell_type": "code",
   "execution_count": 255,
   "id": "d4fb1403",
   "metadata": {},
   "outputs": [],
   "source": [
    "numeric_cols = numeric_cols.drop(\"ID\", errors='ignore')"
   ]
  },
  {
   "cell_type": "markdown",
   "id": "65acf3d6",
   "metadata": {},
   "source": [
    "Ở bước này, để dễ dàng quan sát các boxplot của các cột numerical nên ta sẽ chuẩn hoá (Z-score)."
   ]
  },
  {
   "cell_type": "code",
   "execution_count": 256,
   "id": "16e853ea",
   "metadata": {},
   "outputs": [],
   "source": [
    "num_df = raw_df[numeric_cols]\n",
    "scaler = StandardScaler()\n",
    "scaled_data = scaler.fit_transform(raw_df[numeric_cols])\n",
    "scaled_num_df = pd.DataFrame(scaled_data, columns=numeric_cols)\n"
   ]
  },
  {
   "cell_type": "code",
   "execution_count": 257,
   "id": "d1a1d8ec",
   "metadata": {},
   "outputs": [
    {
     "data": {
      "image/png": "[encoded data removed]",
      "text/plain": [
       "<Figure size 1500x500 with 1 Axes>"
      ]
     },
     "metadata": {},
     "output_type": "display_data"
    }
   ],
   "source": [
    "melted_df = pd.melt(num_df, var_name='Variables', value_name='Value')\n",
    "plt.figure(figsize=(15, 5))\n",
    "plt.title(\"Boxplot of Numerical\")\n",
    "plt.xticks(rotation=90)\n",
    "sns.boxplot(x='Variables', y='Value', data=melted_df);"
   ]
  },
  {
   "cell_type": "markdown",
   "id": "cf2fc135",
   "metadata": {},
   "source": [
    "**Nhận xét**\n",
    "\n",
    "- Nhìn chung dữ liệu tương đối có ít outliers\n",
    "\n",
    "- Ở cột `Income` là có nhiều outliers nhất. Có outliers nằm tương đối xa so với phần lớn giá trị của chúng ta."
   ]
  },
  {
   "cell_type": "markdown",
   "id": "d2c68d5c",
   "metadata": {},
   "source": [
    "Bây giờ ta sẽ sử dụng histogram để xem xét sự phân bố của Income"
   ]
  },
  {
   "cell_type": "code",
   "execution_count": 258,
   "id": "7e6b1289",
   "metadata": {},
   "outputs": [
    {
     "data": {
      "image/png": "[encoded data removed]",
      "text/plain": [
       "<Figure size 640x480 with 1 Axes>"
      ]
     },
     "metadata": {},
     "output_type": "display_data"
    }
   ],
   "source": [
    "sns.histplot(raw_df[\"Income\"], bins= 50, kde=True);"
   ]
  },
  {
   "cell_type": "markdown",
   "id": "41dc2139",
   "metadata": {},
   "source": [
    "Outlier có giá trị `Income` trên mức 60000 (max của `Income`). Đây là có số quá lớn so với phần còn lại. Tuy nhiên, với quy mô của một công ty về thực phẩm đại trà nên chúng ta sẽ bỏ đi điểm dữ liệu này để phần lớn dữ liệu bớt ảnh hưởng bởi nó"
   ]
  },
  {
   "cell_type": "code",
   "execution_count": 259,
   "id": "9f48c806",
   "metadata": {},
   "outputs": [
    {
     "data": {
      "text/plain": [
       "666666.0"
      ]
     },
     "execution_count": 259,
     "metadata": {},
     "output_type": "execute_result"
    }
   ],
   "source": [
    "max_income = raw_df['Income'].max()\n",
    "max_income"
   ]
  },
  {
   "cell_type": "code",
   "execution_count": 260,
   "id": "04c09c3c",
   "metadata": {},
   "outputs": [
    {
     "data": {
      "text/plain": [
       "(2239, 30)"
      ]
     },
     "execution_count": 260,
     "metadata": {},
     "output_type": "execute_result"
    }
   ],
   "source": [
    "raw_df = raw_df[raw_df['Income'] != max_income]\n",
    "raw_df.shape"
   ]
  },
  {
   "cell_type": "markdown",
   "id": "5d3f3176",
   "metadata": {},
   "source": [
    "## 9. Xem xét các cột Categorical"
   ]
  },
  {
   "cell_type": "code",
   "execution_count": 261,
   "id": "e13e7b3e",
   "metadata": {
    "scrolled": true
   },
   "outputs": [
    {
     "data": {
      "text/html": [
       "<div>\n",
       "<style scoped>\n",
       "    .dataframe tbody tr th:only-of-type {\n",
       "        vertical-align: middle;\n",
       "    }\n",
       "\n",
       "    .dataframe tbody tr th {\n",
       "        vertical-align: top;\n",
       "    }\n",
       "\n",
       "    .dataframe thead th {\n",
       "        text-align: right;\n",
       "    }\n",
       "</style>\n",
       "<table border=\"1\" class=\"dataframe\">\n",
       "  <thead>\n",
       "    <tr style=\"text-align: right;\">\n",
       "      <th></th>\n",
       "      <th>Education</th>\n",
       "      <th>Marital_Status</th>\n",
       "    </tr>\n",
       "  </thead>\n",
       "  <tbody>\n",
       "    <tr>\n",
       "      <th>0</th>\n",
       "      <td>Graduation</td>\n",
       "      <td>Single</td>\n",
       "    </tr>\n",
       "    <tr>\n",
       "      <th>1</th>\n",
       "      <td>Graduation</td>\n",
       "      <td>Single</td>\n",
       "    </tr>\n",
       "    <tr>\n",
       "      <th>2</th>\n",
       "      <td>Graduation</td>\n",
       "      <td>Together</td>\n",
       "    </tr>\n",
       "    <tr>\n",
       "      <th>3</th>\n",
       "      <td>Graduation</td>\n",
       "      <td>Together</td>\n",
       "    </tr>\n",
       "    <tr>\n",
       "      <th>4</th>\n",
       "      <td>PhD</td>\n",
       "      <td>Married</td>\n",
       "    </tr>\n",
       "  </tbody>\n",
       "</table>\n",
       "</div>"
      ],
      "text/plain": [
       "    Education Marital_Status\n",
       "0  Graduation         Single\n",
       "1  Graduation         Single\n",
       "2  Graduation       Together\n",
       "3  Graduation       Together\n",
       "4         PhD        Married"
      ]
     },
     "execution_count": 261,
     "metadata": {},
     "output_type": "execute_result"
    }
   ],
   "source": [
    "categolical_cols = raw_df.select_dtypes(include=\"object\").columns.tolist()\n",
    "raw_df[categolical_cols].head()"
   ]
  },
  {
   "cell_type": "code",
   "execution_count": 262,
   "id": "bad1dc41",
   "metadata": {},
   "outputs": [
    {
     "data": {
      "text/plain": [
       "Graduation    1126\n",
       "PhD            486\n",
       "Master         370\n",
       "2n Cycle       203\n",
       "Basic           54\n",
       "Name: Education, dtype: int64"
      ]
     },
     "execution_count": 262,
     "metadata": {},
     "output_type": "execute_result"
    }
   ],
   "source": [
    "raw_df['Education'].value_counts()"
   ]
  },
  {
   "cell_type": "code",
   "execution_count": 263,
   "id": "1e7e4861",
   "metadata": {},
   "outputs": [
    {
     "data": {
      "text/plain": [
       "Married     864\n",
       "Together    579\n",
       "Single      480\n",
       "Divorced    232\n",
       "Widow        77\n",
       "Alone         3\n",
       "Absurd        2\n",
       "YOLO          2\n",
       "Name: Marital_Status, dtype: int64"
      ]
     },
     "execution_count": 263,
     "metadata": {},
     "output_type": "execute_result"
    }
   ],
   "source": [
    "raw_df['Marital_Status'].value_counts()"
   ]
  },
  {
   "cell_type": "markdown",
   "id": "cb61a1a4",
   "metadata": {},
   "source": [
    "Thấy rằng giá trị trong cột này khá hỗn loạn và khó phân tích. Bây giờ ta sẽ quy về 2 nhóm chính\n",
    "\n",
    "- `In relationship`, bao gồm:\n",
    "\n",
    "    - Married, Together\n",
    "    \n",
    "- `Single` bao gồm các giá trị còn lại"
   ]
  },
  {
   "cell_type": "code",
   "execution_count": 264,
   "id": "74bafd04",
   "metadata": {},
   "outputs": [
    {
     "data": {
      "text/plain": [
       "In Relationship    1443\n",
       "Single              796\n",
       "Name: Marital_Status, dtype: int64"
      ]
     },
     "execution_count": 264,
     "metadata": {},
     "output_type": "execute_result"
    }
   ],
   "source": [
    "raw_df['Marital_Status'] = raw_df['Marital_Status'].replace(['Married', 'Together'],'In Relationship')\n",
    "raw_df['Marital_Status'] = raw_df['Marital_Status'].replace(['Divorced', 'Widow', 'Alone', 'YOLO', 'Absurd'],'Single')\n",
    "raw_df['Marital_Status'].value_counts()"
   ]
  },
  {
   "cell_type": "markdown",
   "id": "258dec8d",
   "metadata": {},
   "source": [
    "Trong `Education`, theo tiêu chuẩn giáo dục ở Brazil, `2n Cycle` tương đương với Master nên ta sẽ cập nhật lại giá trị này"
   ]
  },
  {
   "cell_type": "code",
   "execution_count": 265,
   "id": "6e3cac50",
   "metadata": {},
   "outputs": [
    {
     "data": {
      "text/plain": [
       "Graduation    1126\n",
       "Master         573\n",
       "PhD            486\n",
       "Basic           54\n",
       "Name: Education, dtype: int64"
      ]
     },
     "execution_count": 265,
     "metadata": {},
     "output_type": "execute_result"
    }
   ],
   "source": [
    "raw_df['Education'] = raw_df['Education'].replace('2n Cycle', 'Master')\n",
    "raw_df['Education'].value_counts()"
   ]
  },
  {
   "cell_type": "markdown",
   "id": "3fb067e3",
   "metadata": {},
   "source": [
    "- `Education`: Kiêủ dữ liệu ordinal, ta có thể chuyển thành\n",
    "   - Basic: 0\n",
    "\n",
    "   - Graduation: 1\n",
    "\n",
    "   - Master: 2\n",
    "   \n",
    "   - PhD: 3 \n",
    "   \n",
    " - `Marital_Status`: Kiêủ dữ liệu nominal, ta có thể dùng one-hot encoding\n",
    " "
   ]
  },
  {
   "cell_type": "markdown",
   "id": "38c7fa8f",
   "metadata": {},
   "source": [
    "###  Áp dụng one-hot encoding cho cột Marital_Status"
   ]
  },
  {
   "cell_type": "code",
   "execution_count": 266,
   "id": "8437702b",
   "metadata": {},
   "outputs": [],
   "source": [
    "# raw_df = pd.get_dummies(raw_df, columns=[\"Marital_Status\"])\n",
    "# marital_status_cols = [col for col in raw_df.columns if 'Marital_Status' in col]\n",
    "# # Hiển thị DataFrame sau khi đã mã hóa\n",
    "# raw_df[marital_status_cols].head()"
   ]
  },
  {
   "cell_type": "markdown",
   "id": "62e5716e",
   "metadata": {},
   "source": [
    "### Kiểm tra lại shape của data và lưu lại cho các bước xử lý tiếp theo"
   ]
  },
  {
   "cell_type": "code",
   "execution_count": 267,
   "id": "c2fec833",
   "metadata": {},
   "outputs": [
    {
     "data": {
      "text/plain": [
       "(2239, 30)"
      ]
     },
     "execution_count": 267,
     "metadata": {},
     "output_type": "execute_result"
    }
   ],
   "source": [
    "raw_df.shape"
   ]
  },
  {
   "cell_type": "code",
   "execution_count": 268,
   "id": "3c8545ad",
   "metadata": {},
   "outputs": [],
   "source": [
    "raw_df.to_csv(\"data/marketing_campaign_cleaned.csv\", index=False)"
   ]
  }
 ],
 "metadata": {
  "kernelspec": {
   "display_name": "Python 3 (ipykernel)",
   "language": "python",
   "name": "python3"
  },
  "language_info": {
   "codemirror_mode": {
    "name": "ipython",
    "version": 3
   },
   "file_extension": ".py",
   "mimetype": "text/x-python",
   "name": "python",
   "nbconvert_exporter": "python",
   "pygments_lexer": "ipython3",
   "version": "3.10.8"
  }
 },
 "nbformat": 4,
 "nbformat_minor": 5
}
